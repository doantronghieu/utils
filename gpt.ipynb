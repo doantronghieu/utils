{
 "cells": [
  {
   "cell_type": "code",
   "execution_count": 1,
   "metadata": {},
   "outputs": [],
   "source": [
    "from tqdm import tqdm\n",
    "\n",
    "from langchain import PromptTemplate, OpenAI\n",
    "from config import set_environment\n",
    "set_environment()\n",
    "\n",
    "from langchain.schema import StrOutputParser"
   ]
  },
  {
   "cell_type": "code",
   "execution_count": 2,
   "metadata": {},
   "outputs": [
    {
     "name": "stderr",
     "output_type": "stream",
     "text": [
      "100%|██████████| 1/1 [00:00<00:00, 17549.39it/s]"
     ]
    },
    {
     "name": "stdout",
     "output_type": "stream",
     "text": [
      "Summaries appended to summaries.txt\n"
     ]
    },
    {
     "name": "stderr",
     "output_type": "stream",
     "text": [
      "\n"
     ]
    }
   ],
   "source": [
    "file_path = 'book_parts_chatgpt.txt'\n",
    "\n",
    "# Read the content of the file\n",
    "with open(file_path, 'r', encoding='utf-8') as file:\n",
    "    content = file.read()\n",
    "\n",
    "# Split the content into paragraphs based on the newline character\n",
    "paragraphs = content.split('\\\\x')\n",
    "\n",
    "# Remove empty paragraphs\n",
    "paragraphs = [paragraph.strip()\n",
    "              for paragraph in paragraphs if paragraph.strip()]\n",
    "\n",
    "\n",
    "# Your OpenAI setup\n",
    "llm = OpenAI(model='gpt-3.5-turbo-instruct')\n",
    "prompt_template = PromptTemplate.from_template(\n",
    "    \"\"\"\n",
    "    Remove inappropriate carriage return characters, remove unnecessary words, and rewrite this content to make this more compact:\n",
    "    {text}\n",
    "    \"\"\"\n",
    ")\n",
    "output_parser = StrOutputParser()\n",
    "\n",
    "# Iterate over paragraphs and generate summaries\n",
    "summaries = []\n",
    "for paragraph in paragraphs:\n",
    "    # Skip empty paragraphs\n",
    "    if not paragraph.strip():\n",
    "        continue\n",
    "\n",
    "    # Generate summary using OpenAI\n",
    "    runnable = prompt_template | llm | output_parser\n",
    "    summary = runnable.invoke({'text': paragraph})\n",
    "\n",
    "    # Append the summary to the list\n",
    "    summaries.append(summary)\n",
    "\n",
    "# Append summaries to the output file\n",
    "output_file_path = 'summaries.txt'\n",
    "with open(output_file_path, 'a', encoding='utf-8') as output_file:\n",
    "    for summary in tqdm(summaries):\n",
    "        output_file.write(summary + '\\n')\n",
    "\n",
    "print(f'Summaries appended to {output_file_path}')"
   ]
  }
 ],
 "metadata": {
  "kernelspec": {
   "display_name": "utils",
   "language": "python",
   "name": "python3"
  },
  "language_info": {
   "codemirror_mode": {
    "name": "ipython",
    "version": 3
   },
   "file_extension": ".py",
   "mimetype": "text/x-python",
   "name": "python",
   "nbconvert_exporter": "python",
   "pygments_lexer": "ipython3",
   "version": "3.11.7"
  }
 },
 "nbformat": 4,
 "nbformat_minor": 2
}
