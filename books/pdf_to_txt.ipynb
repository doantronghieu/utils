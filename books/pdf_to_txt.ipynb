{
 "cells": [
  {
   "cell_type": "code",
   "execution_count": 45,
   "metadata": {},
   "outputs": [
    {
     "name": "stderr",
     "output_type": "stream",
     "text": [
      "Extracting Pages: 100%|██████████| 361/361 [00:04<00:00, 87.44it/s]"
     ]
    },
    {
     "name": "stdout",
     "output_type": "stream",
     "text": [
      "Text extracted from all pages and saved to 'page_extracted.txt'\n"
     ]
    },
    {
     "name": "stderr",
     "output_type": "stream",
     "text": [
      "\n"
     ]
    }
   ],
   "source": [
    "from PyPDF2 import PdfReader\n",
    "from tqdm import tqdm\n",
    "\n",
    "\n",
    "def extract_text_from_pdf(input_pdf_path, output_txt_path='book_content.txt'):\n",
    "    # Creating a pdf reader object\n",
    "    reader = PdfReader(input_pdf_path)\n",
    "\n",
    "    # Open a text file for writing\n",
    "    with open(f'{input_pdf_path.split('.pdf')[0]}-{output_txt_path}', 'w', encoding='utf-8') as output_file:\n",
    "        # Use tqdm to iterate through all pages with a progress bar\n",
    "        for page_number in tqdm(range(len(reader.pages)), desc=\"Extracting Pages\"):\n",
    "            # Getting a specific page from the pdf file\n",
    "            current_page = reader.pages[page_number]\n",
    "\n",
    "            # Extracting text from the page\n",
    "            text = current_page.extract_text()\n",
    "\n",
    "            # Post-process the text to join lines with lowercase letters to the previous line\n",
    "            lines = text.split('\\n')\n",
    "            processed_text = [lines[0]]  # Keep the first line as is\n",
    "            for line in lines[1:]:\n",
    "                # Check if the line starts with a lowercase letter and there is no period before the line break\n",
    "                if line and line[0].islower() and not processed_text[-1].endswith('.'):\n",
    "                    # Append to the previous line\n",
    "                    processed_text[-1] += ' ' + line\n",
    "                else:\n",
    "                    # Start a new line\n",
    "                    processed_text.append(line)\n",
    "\n",
    "            # Writing the processed text to the output file\n",
    "            output_file.write(\"Page {}:\\n{}\\n\\n\".format(\n",
    "                page_number + 1, '\\n'.join(processed_text)))\n",
    "\n",
    "    print(f\"Text extracted from all pages and saved to '{output_txt_path}'\")\n",
    "\n",
    "\n",
    "# Example usage:\n",
    "extract_text_from_pdf('LLM.pdf')"
   ]
  },
  {
   "cell_type": "code",
   "execution_count": 44,
   "metadata": {},
   "outputs": [],
   "source": [
    "def join_lines(input_file_path, output_file_path):\n",
    "    with open(input_file_path, 'r', encoding='utf-8') as input_file, open(output_file_path, 'w', encoding='utf-8') as output_file:\n",
    "        lines = input_file.readlines()\n",
    "        processed_lines = []\n",
    "\n",
    "        for line in lines:\n",
    "            # Check if the line ends with a space\n",
    "            if line.rstrip('\\n').endswith(' '):\n",
    "                # Append to the previous line\n",
    "                processed_lines[-1] += line.rstrip('\\n')\n",
    "            else:\n",
    "                # Start a new line\n",
    "                processed_lines.append(line.rstrip('\\n'))\n",
    "\n",
    "        # Writing the processed lines to the output file\n",
    "        output_file.write('\\n'.join(processed_lines))\n",
    "\n",
    "\n",
    "# Example usage:\n",
    "join_lines('book_content.txt', 'book_content_processed.txt')"
   ]
  }
 ],
 "metadata": {
  "kernelspec": {
   "display_name": "learn",
   "language": "python",
   "name": "python3"
  },
  "language_info": {
   "codemirror_mode": {
    "name": "ipython",
    "version": 3
   },
   "file_extension": ".py",
   "mimetype": "text/x-python",
   "name": "python",
   "nbconvert_exporter": "python",
   "pygments_lexer": "ipython3",
   "version": "3.11.7"
  }
 },
 "nbformat": 4,
 "nbformat_minor": 2
}
